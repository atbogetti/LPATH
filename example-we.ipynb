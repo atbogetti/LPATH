{
 "cells": [
  {
   "cell_type": "markdown",
   "id": "5ec06693",
   "metadata": {},
   "source": [
    "# Example WE Notebook for mPHAT"
   ]
  },
  {
   "cell_type": "markdown",
   "id": "16e05d9c",
   "metadata": {},
   "source": [
    "This notebook details steps towards running the whole mPHAT analysis with a WE simulation. Check our [Sphinx documentation](https://mphat.readthedocs.io) for more up-to-date information about each function.\n",
    "\n",
    "By Jeremy Leung\n",
    "Last updated: Apr 13th, 2023"
   ]
  },
  {
   "cell_type": "markdown",
   "id": "5367e35d",
   "metadata": {},
   "source": [
    "## Common cells"
   ]
  },
  {
   "cell_type": "code",
   "execution_count": null,
   "id": "382125e9",
   "metadata": {},
   "outputs": [],
   "source": [
    "# Imports for all steps\n",
    "import argparse\n",
    "from mphat import discretize, extract, match"
   ]
  },
  {
   "cell_type": "code",
   "execution_count": null,
   "id": "843b6dab",
   "metadata": {},
   "outputs": [],
   "source": []
  },
  {
   "cell_type": "markdown",
   "id": "97319650",
   "metadata": {},
   "source": [
    "## Discretize"
   ]
  },
  {
   "cell_type": "code",
   "execution_count": null,
   "id": "1d2e2f15",
   "metadata": {},
   "outputs": [],
   "source": [
    "# Arguments for `discretize` step.\n",
    "discretize_args = argparse.Namespace(\n",
    "    input_name='west.h5',  # Input data for state assignment. Something like 'dihedral.npy'.\n",
    "    output_name='assign.h5',  # Output file name for the state assignment.\n",
    "    assign_func='default_assign',  # Assign function that dictates how to assign states\n",
    "    west_name='west.h5',  # Name of input HDF5 file (e.g., west.h5)\n",
    "    assign_name='ANALYSIS/TEST/assign.h5',  # Name of output assign.h5 file\n",
    "    rcfile='west.cfg', # west.cfg file\n",
    "    assign_args=argparse.Namespace(  # These are arguments for w_assign\n",
    "        verbosity='verbose',  # Verbose or debug\n",
    "        rcfile=\"west.cfg\",  # west.cfg\n",
    "        max_queue_length=None,\n",
    "        we_h5filename='west.h5',  # west.h5 path\n",
    "        construct_dataset=None,  # If you need some custom auxiliary dataset\n",
    "        dsspecs=None,\n",
    "        output='assign.h5',  # Output file\n",
    "        subsample=None,\n",
    "        config_from_file=True,  # Read config from rcfile\n",
    "        scheme='TEST',  # Scheme name\n",
    "    ),\n",
    ")"
   ]
  },
  {
   "cell_type": "code",
   "execution_count": null,
   "id": "ca85f9af",
   "metadata": {},
   "outputs": [],
   "source": [
    "# Run discretize with the parameters defined in the cell above.\n",
    "discretize.main(discretize_args)"
   ]
  },
  {
   "cell_type": "code",
   "execution_count": null,
   "id": "69adaa72",
   "metadata": {},
   "outputs": [],
   "source": []
  },
  {
   "cell_type": "markdown",
   "id": "e264d50d",
   "metadata": {},
   "source": [
    "## Extract"
   ]
  },
  {
   "cell_type": "code",
   "execution_count": null,
   "id": "d3f8dce6",
   "metadata": {},
   "outputs": [],
   "source": [
    "# Arguments for the `extract` step.\n",
    "extract_args = argparse.Namespace(\n",
    "    west_name='west.h5',  # Name of input HDF5 file (e.g., west.h5)\n",
    "    assign_name='ANALYSIS/C7_EQ/assign.h5',  # Name of input assign.h5 file\n",
    "    source_state_num=0,  # Index of the source state as defined in assign.h5.\n",
    "    target_state_num=1,  # Index of the target state as defined in assign.h5.\n",
    "    first_iter=1,  # First iteration to analyze. Inclusive\n",
    "    last_iter=200,  # Last iteration to analyze. Inclusive. 0 implies it will analyze all labeled iterations.\n",
    "    trace_basis=True,  # Option to analyze each successful trajectory up till its basis state.\n",
    "    out_traj=False,  # Option to output trajectory files into `out_dir`. Will take much longer.\n",
    "    out_traj_ext='.nc',  # Extension of the segment files. Defaults to `seg{out_traj_ext}`.\n",
    "    out_state_ext='.ncrst',  # Extension of the restart files. Defaults to `seg{out_state_ext}`.\n",
    "    out_top='system.prmtop',  # Name of the parameter file. Name relative to `$WEST_SIM_ROOT/common_files`.\n",
    "    out_dir='succ_traj',  # Name of directory to output the trajectories.\n",
    "    hdf5=False,  # Enable if trajectories are saved with the HDF5 Framework in WESTPA.\n",
    "    rewrite_weights=False,  # Option to zero out the weights of all segments that are not a successful trajectory.\n",
    "    pcoord=True,  # Option to output the pcoord into the `output.pickle`.\n",
    "    auxdata=['phi', 'psi'],  # Additional auxiliary data to save into `output.pickle`.\n",
    "    use_ray=False,  # Enable Ray.\n",
    "    threads=0,  # How many Ray threads/actors to use. Defaults to 0, which wil use all auto-detected resources.\n",
    ")"
   ]
  },
  {
   "cell_type": "code",
   "execution_count": null,
   "id": "0497375f",
   "metadata": {},
   "outputs": [],
   "source": [
    "# Run match with the parameters defined in the cell above.\n",
    "extract.main(extract_args)"
   ]
  },
  {
   "cell_type": "code",
   "execution_count": null,
   "id": "f291c641",
   "metadata": {},
   "outputs": [],
   "source": []
  },
  {
   "cell_type": "markdown",
   "id": "8aef8e77",
   "metadata": {},
   "source": [
    "## Pattern Match"
   ]
  },
  {
   "cell_type": "code",
   "execution_count": null,
   "id": "43ab5a1b",
   "metadata": {},
   "outputs": [],
   "source": [
    "# Arguments for the `match` step.\n",
    "pattern_args = argparse.Namespace(\n",
    "    input_pickle='succ_traj/output.pickle',  # Input file name of the pickle from `extract.py`\n",
    "    west_name='multi.h5',  # Name of input HDF5 file (e.g., west.h5)\n",
    "    assign_name='ANALYSIS/ALL/assign.h5',  # Name of input assign.h5 file\n",
    "    dmatrix_remake=True,  # Enable to remake the distance Matrix\n",
    "    dmatrix_save='distmap.npy',  # If dmatrix_remake is False, load this file instead. Assumed located in {out_dir}.\n",
    "    dendrogram_threshold=0.5,  # Threshold for the Dendrogram\n",
    "    dendrogram_show=True,  # Show the Dendrogram using plt.show()\n",
    "    out_dir='succ_traj',  # Output for the distance Matrix\n",
    "    cl_output='succ_traj/cluster_labels.npy',  # Output path for cluster labels\n",
    "    file_pattern='west_succ_c{}.h5',  # Pattern to name cluster files\n",
    "    clusters=None,  # Cluster index to output... otherwise None --> All\n",
    "    reassign_method='reassign_identity',  # Reassign method. Could be a module to be loaded.\n",
    ")"
   ]
  },
  {
   "cell_type": "code",
   "execution_count": null,
   "id": "94f148c2",
   "metadata": {},
   "outputs": [],
   "source": [
    "# Run discretize with the parameters defined in the cell above.\n",
    "match.main(match_args)"
   ]
  }
 ],
 "metadata": {
  "kernelspec": {
   "display_name": "Python 3 (ipykernel)",
   "language": "python",
   "name": "python3"
  },
  "language_info": {
   "codemirror_mode": {
    "name": "ipython",
    "version": 3
   },
   "file_extension": ".py",
   "mimetype": "text/x-python",
   "name": "python",
   "nbconvert_exporter": "python",
   "pygments_lexer": "ipython3",
   "version": "3.10.10"
  }
 },
 "nbformat": 4,
 "nbformat_minor": 5
}
